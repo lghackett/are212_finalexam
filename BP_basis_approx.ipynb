{
 "cells": [
  {
   "cell_type": "markdown",
   "id": "measured-commons",
   "metadata": {},
   "source": [
    "# Estimating variance with basis functions\n",
    "This notebook uses the set up in the linear-nonlinear.ipynb notebook to estimate the form of the (estimated) disturbances using a polynomial basis. "
   ]
  },
  {
   "cell_type": "code",
   "execution_count": 1,
   "id": "convinced-journal",
   "metadata": {},
   "outputs": [],
   "source": [
    "import numpy as np\n",
    "from numpy.linalg import norm\n",
    "from scipy.stats import distributions as iid\n",
    "import pandas as pd"
   ]
  },
  {
   "cell_type": "code",
   "execution_count": 2,
   "id": "russian-container",
   "metadata": {},
   "outputs": [],
   "source": [
    "# define true function (see linear-nonlinear notebook for inspiration)\n",
    "f0 = lambda x: 1 + np.sin(x) # True function\n",
    "\n",
    "# Factory function for phi_k(x); simple polynomial\n",
    "phi_factory = lambda c,s=1: lambda x: x**c"
   ]
  },
  {
   "cell_type": "code",
   "execution_count": 3,
   "id": "bored-works",
   "metadata": {},
   "outputs": [],
   "source": [
    "# heteroskedastic DGP\n",
    "def dgp(N,sigma_u,f0,beta=1):\n",
    "    X = iid.uniform(loc=0,scale=2*np.pi).rvs(size=(N,1))\n",
    "\n",
    "    u = iid.norm(scale=sigma_u).rvs(size=(N,1))\n",
    "    u = u*f0(X) # create heterskedasticity\n",
    "\n",
    "    y = (X*beta+u).reshape(N,1)\n",
    "\n",
    "    return X,y\n",
    "\n",
    "N = 100\n",
    "X,y = dgp(N,1,f0)"
   ]
  },
  {
   "cell_type": "code",
   "execution_count": 4,
   "id": "expired-daughter",
   "metadata": {
    "scrolled": true
   },
   "outputs": [
    {
     "data": {
      "text/plain": [
       "(-1.0, 10.0)"
      ]
     },
     "execution_count": 4,
     "metadata": {},
     "output_type": "execute_result"
    },
    {
     "data": {
      "image/png": "[encoded data removed]",
      "text/plain": [
       "<Figure size 432x288 with 1 Axes>"
      ]
     },
     "metadata": {
      "needs_background": "light"
     },
     "output_type": "display_data"
    }
   ],
   "source": [
    "# regress and get errors\n",
    "e = y - X*np.linalg.inv(X.T@X)@X.T@y\n",
    "\n",
    "# plot\n",
    "import matplotlib.pyplot as plt\n",
    "fig, ax = plt.subplots()\n",
    "\n",
    "ax.scatter(X, e**2)\n",
    "ax.axvline(x = np.pi/2, color = 'grey')\n",
    "ax.axvline(x = 3*np.pi/2, color = 'grey')\n",
    "\n",
    "xp = np.sort(X.flatten())\n",
    "ax.plot(xp, [f0(x) for x in xp], color = 'green', linewidth=2, label = 'True variance of u')\n",
    "ax.set_title(\"Estimated and true variance of u\")\n",
    "ax.set_ylim((-1,10)) # ignore high outliers to get a better look"
   ]
  },
  {
   "cell_type": "code",
   "execution_count": 5,
   "id": "unable-satin",
   "metadata": {},
   "outputs": [
    {
     "data": {
      "text/plain": [
       "12.762280823107584"
      ]
     },
     "execution_count": 5,
     "metadata": {},
     "output_type": "execute_result"
    }
   ],
   "source": [
    "## Now estimate with the basis functions defined above\n",
    "## let's try to the 4th power\n",
    "K=5\n",
    "\n",
    "# Divide up domain\n",
    "Domain = np.linspace(0,2*np.pi,100).tolist()\n",
    "phis = {k:phi_factory(Domain[x]) for k,x in enumerate(range(1,len(Domain),len(Domain)//K))}\n",
    "phis[0] = lambda x: 1 # Constant function\n",
    "\n",
    "TX = {}\n",
    "for k in range(K):\n",
    "    TX['phi_%d' % k] = [phis[k](x) for x in X.flatten()]\n",
    "    TX['phi_%d' % k]\n",
    "\n",
    "TX = pd.DataFrame(TX)\n",
    "\n",
    "u2 = e**2\n",
    "\n",
    "try: # If e isn't a DataFrame make it one\n",
    "    u2 = pd.DataFrame({'u':u2})\n",
    "except ValueError: # Guess it is!\n",
    "    pass\n",
    "\n",
    "alpha = pd.DataFrame(np.linalg.lstsq(TX, u2,rcond=None)[0],index=TX.columns)\n",
    "\n",
    "# Check fit:\n",
    "e = y.squeeze() - (TX@alpha).squeeze()\n",
    "e.var()"
   ]
  },
  {
   "cell_type": "code",
   "execution_count": 6,
   "id": "authorized-folder",
   "metadata": {},
   "outputs": [
    {
     "data": {
      "text/html": [
       "<div>\n",
       "<style scoped>\n",
       "    .dataframe tbody tr th:only-of-type {\n",
       "        vertical-align: middle;\n",
       "    }\n",
       "\n",
       "    .dataframe tbody tr th {\n",
       "        vertical-align: top;\n",
       "    }\n",
       "\n",
       "    .dataframe thead th {\n",
       "        text-align: right;\n",
       "    }\n",
       "</style>\n",
       "<table border=\"1\" class=\"dataframe\">\n",
       "  <thead>\n",
       "    <tr style=\"text-align: right;\">\n",
       "      <th></th>\n",
       "      <th>0</th>\n",
       "    </tr>\n",
       "  </thead>\n",
       "  <tbody>\n",
       "    <tr>\n",
       "      <th>phi_0</th>\n",
       "      <td>0.481858</td>\n",
       "    </tr>\n",
       "    <tr>\n",
       "      <th>phi_1</th>\n",
       "      <td>5.605187</td>\n",
       "    </tr>\n",
       "    <tr>\n",
       "      <th>phi_2</th>\n",
       "      <td>-2.386871</td>\n",
       "    </tr>\n",
       "    <tr>\n",
       "      <th>phi_3</th>\n",
       "      <td>0.321888</td>\n",
       "    </tr>\n",
       "    <tr>\n",
       "      <th>phi_4</th>\n",
       "      <td>-0.013968</td>\n",
       "    </tr>\n",
       "  </tbody>\n",
       "</table>\n",
       "</div>"
      ],
      "text/plain": [
       "              0\n",
       "phi_0  0.481858\n",
       "phi_1  5.605187\n",
       "phi_2 -2.386871\n",
       "phi_3  0.321888\n",
       "phi_4 -0.013968"
      ]
     },
     "execution_count": 6,
     "metadata": {},
     "output_type": "execute_result"
    }
   ],
   "source": [
    "alpha # we could test the values of these for h_0: phi_i = 0 for each i"
   ]
  },
  {
   "cell_type": "code",
   "execution_count": 7,
   "id": "twenty-convention",
   "metadata": {},
   "outputs": [
    {
     "data": {
      "image/png": "[encoded data removed]",
      "text/plain": [
       "<Figure size 432x288 with 1 Axes>"
      ]
     },
     "execution_count": 7,
     "metadata": {},
     "output_type": "execute_result"
    }
   ],
   "source": [
    "def fhat(x,alpha):\n",
    "    try: # Make alpha 1-d for calculations here\n",
    "        alpha = alpha.squeeze()\n",
    "    except AttributeError: # Maybe a list?\n",
    "        pass\n",
    "    \n",
    "    yhat = 0\n",
    "    for k,phik in phis.items():\n",
    "        yhat += alpha[k]*phik(x)\n",
    "\n",
    "    return yhat\n",
    "\n",
    "Domain = np.linspace(0,2*np.pi,100).tolist()\n",
    "\n",
    "_ = ax.plot(Domain,[fhat(x,alpha) for x in Domain], color = 'red')\n",
    "fig"
   ]
  }
 ],
 "metadata": {
  "kernelspec": {
   "display_name": "Python 3",
   "language": "python",
   "name": "python3"
  },
  "language_info": {
   "codemirror_mode": {
    "name": "ipython",
    "version": 3
   },
   "file_extension": ".py",
   "mimetype": "text/x-python",
   "name": "python",
   "nbconvert_exporter": "python",
   "pygments_lexer": "ipython3",
   "version": "3.9.2"
  }
 },
 "nbformat": 4,
 "nbformat_minor": 5
}
