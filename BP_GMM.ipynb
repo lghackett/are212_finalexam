{
 "cells": [
  {
   "cell_type": "code",
   "execution_count": 1,
   "id": "smooth-phenomenon",
   "metadata": {},
   "outputs": [],
   "source": [
    "import numpy as np\n",
    "from numpy.linalg import inv\n",
    "from scipy.stats import distributions as iid\n",
    "import scipy.optimize as optimize\n",
    "from matplotlib import pyplot as plt"
   ]
  },
  {
   "cell_type": "code",
   "execution_count": 2,
   "id": "impressed-commonwealth",
   "metadata": {},
   "outputs": [],
   "source": [
    "### define data parameters, taken from the gmm_finite_samples notebook\n",
    "\n",
    "beta = (1, 1)# \"Coefficients of interest\"\n",
    "gamma = 5    # Governs effect of u on X\n",
    "sigma_u = 1  # Note assumption of homoskedasticity\n",
    "N = 1000     # no. observations\n",
    "\n",
    "# in summary\n",
    "true_params = [1, 1, 1]"
   ]
  },
  {
   "cell_type": "code",
   "execution_count": 3,
   "id": "victorian-welsh",
   "metadata": {},
   "outputs": [],
   "source": [
    "### data generating function, \n",
    "### again taken from the gmm_finite_samples notebook\n",
    "def dgp(N,beta,gamma,sigma_u):\n",
    "    \"\"\"Generate a tuple of (y,X,Z).\n",
    "\n",
    "    Satisfies model:\n",
    "        y = X@beta + u\n",
    "        E x'u = 0\n",
    "        Var(u) = sigma^2\n",
    "        Cov(X,u) = gamma*sigma_u^2\n",
    "        u,X mean zero, Gaussian\n",
    "\n",
    "    Each element of the tuple is an array of N observations.\n",
    "\n",
    "    Inputs include\n",
    "    - beta :: the coefficient of interest\n",
    "    - gamma :: linear effect of disturbance on X\n",
    "    - sigma_u :: Variance of disturbance\n",
    "    - VXZ :: Cov([X,Z|u])\n",
    "    \"\"\"\n",
    "    \n",
    "    beta = np.array(beta).reshape(2,1)\n",
    "    u = iid.norm.rvs(size=(N,1))*sigma_u\n",
    "    X = iid.norm.rvs(size=(N,1))\n",
    "\n",
    "    # But X (may be) endogenous...\n",
    "    X = X + gamma*u\n",
    "    # add intercept\n",
    "    X = np.hstack((np.ones(shape = (N,1)), X))\n",
    "    # Calculate y\n",
    "    y = X@beta + u\n",
    "\n",
    "    return y,X"
   ]
  },
  {
   "cell_type": "code",
   "execution_count": 4,
   "id": "convinced-destruction",
   "metadata": {},
   "outputs": [],
   "source": [
    "### create one data set where X is EXOGENEOUS\n",
    "data_exog = dgp(N, beta, 0, sigma_u)\n",
    "\n",
    "### create one data set where X is ENDOGENEOUS\n",
    "data_endog = dgp(N, beta, gamma, sigma_u)"
   ]
  },
  {
   "cell_type": "code",
   "execution_count": 5,
   "id": "overhead-wisconsin",
   "metadata": {},
   "outputs": [],
   "source": [
    "### define the moment conditions\n",
    "def gj(b1, b2, s, data):\n",
    "    b = np.array([b1, b2])\n",
    "    y, x = data\n",
    "    u  = y - x*b\n",
    "    g1 = x*u\n",
    "    g2 = x*u**2 - x*s**2\n",
    "    \n",
    "    return np.hstack((g1, g2))"
   ]
  },
  {
   "cell_type": "code",
   "execution_count": 6,
   "id": "spoken-minister",
   "metadata": {},
   "outputs": [],
   "source": [
    "def gN(b1, b2, s, data):\n",
    "    \"\"\"Averages of g_j(b).\n",
    "    \n",
    "    This is generic for data, to be passed to gj.\n",
    "    \"\"\"\n",
    "    e = gj(b1, b2, s, data)\n",
    "    \n",
    "    # Check to see more obs. than moments.\n",
    "    assert e.shape[0] > e.shape[1]\n",
    "    return e.mean(axis=0)\n",
    "\n",
    "def Omegahat(b1, b2, s, data):\n",
    "    e = gj(b1, b2, s, data)\n",
    "\n",
    "    # Recenter! We have Eu=0 under null.\n",
    "    # Important to use this information.\n",
    "    e = e - e.mean(axis=0) \n",
    "    return e.T@e/e.shape[0]\n",
    "\n",
    "Winv = Omegahat(beta[0], beta[1], sigma_u, data_exog)"
   ]
  },
  {
   "cell_type": "code",
   "execution_count": 7,
   "id": "spare-penguin",
   "metadata": {},
   "outputs": [],
   "source": [
    "def J(b1, b2,s,W,data):\n",
    "    \n",
    "    m = gN(b1, b2, s, data) # Sample moments @ b, s\n",
    "    N = data[0].shape[0]\n",
    "    \n",
    "    return N*m.T@W@m # Scale by sample size\n",
    "\n",
    "# Limiting distribution under the null\n",
    "limiting_J = iid.chi2(1)\n",
    "\n",
    "def two_step_gmm(data):\n",
    "    # First step uses identity weighting matrix\n",
    "    W1 = np.eye(gj(1, 1, 1, data).shape[1])\n",
    "    x0 = [1,1,1]\n",
    "    \n",
    "    def J2(params):\n",
    "        b1, b2, s = params\n",
    "        return J(b1, b2, s, W1, data)\n",
    "    \n",
    "    result = optimize.minimize(J2, x0)\n",
    "    b10, b20, s10 = result.x\n",
    "    \n",
    "    # Construct 2nd step weighting matrix using\n",
    "    # first step estimate of beta\n",
    "    W2 = inv(Omegahat(b10, b20,s10,data))\n",
    "    \n",
    "    def J3(params):\n",
    "        b1, b2, s = params\n",
    "        return J(b1, b2, s,W2,data)\n",
    "    \n",
    "    return optimize.minimize(J3, result.x)"
   ]
  },
  {
   "cell_type": "code",
   "execution_count": 8,
   "id": "focal-award",
   "metadata": {},
   "outputs": [
    {
     "name": "stdout",
     "output_type": "stream",
     "text": [
      "b=1.007174, s=1.011332, J=0.527268, Critical J=3.841459\n"
     ]
    }
   ],
   "source": [
    "# get critical value when X is EXOGENEOUS\n",
    "soltn = two_step_gmm(data_exog)\n",
    "print(\"b=%f, s=%f, J=%f, Critical J=%f\" % (soltn.x[0],soltn.x[1],\n",
    "                                           soltn.fun,limiting_J.isf(0.05)))"
   ]
  },
  {
   "cell_type": "code",
   "execution_count": 9,
   "id": "dependent-italian",
   "metadata": {},
   "outputs": [
    {
     "name": "stdout",
     "output_type": "stream",
     "text": [
      "b=1.004324, s=1.192338, J=0.254898, Critical J=3.841459\n"
     ]
    }
   ],
   "source": [
    "# get critical value when X is ENDOGENEOUS\n",
    "soltn = two_step_gmm(data_endog)\n",
    "print(\"b=%f, s=%f, J=%f, Critical J=%f\" % (soltn.x[0],soltn.x[1],\n",
    "                                           soltn.fun,limiting_J.isf(0.05)))"
   ]
  },
  {
   "cell_type": "code",
   "execution_count": 10,
   "id": "tutorial-split",
   "metadata": {},
   "outputs": [],
   "source": [
    "# monte carlo\n",
    "endog_J = []\n",
    "exog_J  = []\n",
    "\n",
    "for i in range(1000): # number of monte carlo draws\n",
    "    # draw exogeneous data\n",
    "    data_exog = dgp(N, beta, 0, sigma_u)\n",
    "    exog_J.append(two_step_gmm(data_exog).fun)\n",
    "    \n",
    "    # draw endogeneous\n",
    "    data_endog = dgp(N, beta, gamma, sigma_u)\n",
    "    endog_J.append(two_step_gmm(data_endog).fun)"
   ]
  },
  {
   "cell_type": "code",
   "execution_count": 11,
   "id": "fifth-checkout",
   "metadata": {},
   "outputs": [
    {
     "data": {
      "text/plain": [
       "<matplotlib.legend.Legend at 0x7f8917ab8bb0>"
      ]
     },
     "execution_count": 11,
     "metadata": {},
     "output_type": "execute_result"
    },
    {
     "data": {
      "image/png": "[encoded data removed]",
      "text/plain": [
       "<Figure size 648x504 with 1 Axes>"
      ]
     },
     "metadata": {
      "needs_background": "light"
     },
     "output_type": "display_data"
    }
   ],
   "source": [
    "# plot\n",
    "fig, ax = plt.subplots(figsize=(9, 7))\n",
    "\n",
    "colors = ['#fa9fb5', '#5ab4ac']\n",
    "counter = 0\n",
    "\n",
    "plt.hist(exog_J, color = '#d8b365', alpha = 0.7, label = 'Exogeneous',zorder=10)\n",
    "plt.hist(endog_J, color = '#5ab4ac', alpha = 0.7, label = 'Endogeneous',zorder=10)\n",
    "\n",
    "plt.axvline(x = limiting_J.isf(0.05))\n",
    "plt.xlabel(\"J\", size = 18)\n",
    "plt.legend()"
   ]
  }
 ],
 "metadata": {
  "kernelspec": {
   "display_name": "Python 3",
   "language": "python",
   "name": "python3"
  },
  "language_info": {
   "codemirror_mode": {
    "name": "ipython",
    "version": 3
   },
   "file_extension": ".py",
   "mimetype": "text/x-python",
   "name": "python",
   "nbconvert_exporter": "python",
   "pygments_lexer": "ipython3",
   "version": "3.9.2"
  }
 },
 "nbformat": 4,
 "nbformat_minor": 5
}
